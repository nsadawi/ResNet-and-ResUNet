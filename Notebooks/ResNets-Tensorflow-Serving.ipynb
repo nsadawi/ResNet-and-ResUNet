{
 "cells": [
  {
   "cell_type": "markdown",
   "metadata": {
    "id": "EHxVJ2Ei8QDP"
   },
   "source": [
    "# DEPLOY BOTH TRAINED MODELS with TENSORFLOW SERVING"
   ]
  },
  {
   "cell_type": "markdown",
   "metadata": {
    "id": "XIm4ZWVu8oKz"
   },
   "source": [
    "## SAVE THE TRAINED MODEL FOR DEPLOYMENT"
   ]
  },
  {
   "cell_type": "markdown",
   "metadata": {
    "id": "GxY1AMo0NZ0R"
   },
   "source": [
    "![alt text](https://drive.google.com/uc?id=1bjjMMF3qorxHwW2DWRugsrkf9YKRIaf3)"
   ]
  },
  {
   "cell_type": "markdown",
   "metadata": {
    "id": "sh5Bn3E-N-tt"
   },
   "source": [
    "![alt text](https://drive.google.com/uc?id=1RltAICf4OkErndMnGDC_FB7wh7zuDDWJ)"
   ]
  },
  {
   "cell_type": "markdown",
   "metadata": {
    "id": "LinXEaAyN-2e"
   },
   "source": [
    "![alt text](https://drive.google.com/uc?id=1p686eR8SxMLkKdS60hY9i1l_G6hXrnND)"
   ]
  },
  {
   "cell_type": "markdown",
   "metadata": {
    "id": "Q59NUF_d80kJ"
   },
   "source": [
    "- We now need to save our trained model and it has to be saved in a SavedModel format.\n",
    "- The model will have a version number and will be saved in a structured directory \n",
    "- tf.saved_model.save is a function used to build a saved model that is suitable for serving using Tensorflow Serving. \n",
    "- After the model is saved, we can now use TensorFlow Serving to start making inference requests using a specific version of our trained model \"servable\".\n",
    "- Use SavedModel to save and load your model—variables, the graph, and the graph's metadata. \n",
    "          \n",
    "- Check this out for more information: \n",
    "https://www.tensorflow.org/guide/saved_model"
   ]
  },
  {
   "cell_type": "code",
   "execution_count": 102,
   "metadata": {
    "id": "mcKhDctJ7vLb"
   },
   "outputs": [],
   "source": [
    "import json\n",
    "import tensorflow.keras.backend as K\n",
    "\n",
    "def deploy(directory, model):\n",
    "    MODEL_DIR = directory\n",
    "    version = 1 \n",
    "\n",
    "    # Let's join the temp model directory with our chosen version number \n",
    "    # The expected result will be = '\\tmp\\version number'\n",
    "    export_path = os.path.join(MODEL_DIR, str(version))\n",
    "    print('export_path = {}\\n'.format(export_path))\n",
    "\n",
    "    # Let's save the model using saved_model.save\n",
    "    # If the directory already exists, we will remove it using '!rm' \n",
    "    # rm removes each file specified on the command line. \n",
    "\n",
    "    if os.path.isdir(export_path):\n",
    "        print('\\nAlready saved a model, cleaning up\\n')\n",
    "        !rm -r {export_path}\n",
    "\n",
    "    tf.saved_model.save(model, export_path)\n",
    "\n",
    "    os.environ[\"MODEL_DIR\"] = MODEL_DIR"
   ]
  },
  {
   "cell_type": "markdown",
   "metadata": {
    "id": "Fe8T2Oow8-v7"
   },
   "source": [
    "##  SERVE THE MODEL USING TENSORFLOW SERVING"
   ]
  },
  {
   "cell_type": "code",
   "execution_count": 103,
   "metadata": {
    "colab": {
     "base_uri": "https://localhost:8080/",
     "height": 624
    },
    "id": "ZZxSvHdm9Iqy",
    "outputId": "2cc931aa-6317-4cc0-b088-3047400f0166"
   },
   "outputs": [
    {
     "name": "stderr",
     "output_type": "stream",
     "text": [
      "'tee' is not recognized as an internal or external command,\n",
      "operable program or batch file.\n",
      "'apt' is not recognized as an internal or external command,\n",
      "operable program or batch file.\n"
     ]
    }
   ],
   "source": [
    "# Let's add tensorflow-model-server package to our list of packages \n",
    "!echo \"deb http://storage.googleapis.com/tensorflow-serving-apt stable tensorflow-model-server tensorflow-model-server-universal\" | tee /etc/apt/sources.list.d/tensorflow-serving.list && \\\n",
    "curl https://storage.googleapis.com/tensorflow-serving-apt/tensorflow-serving.release.pub.gpg | apt-key add -\n",
    "!apt update"
   ]
  },
  {
   "cell_type": "code",
   "execution_count": null,
   "metadata": {
    "colab": {
     "base_uri": "https://localhost:8080/",
     "height": 329
    },
    "id": "Lgk_mdNz9j3z",
    "outputId": "b4fe6217-0059-4baf-e8d1-521a6fec7170"
   },
   "outputs": [
    {
     "name": "stdout",
     "output_type": "stream",
     "text": [
      "Reading package lists... Done\n",
      "Building dependency tree       \n",
      "Reading state information... Done\n",
      "The following package was automatically installed and is no longer required:\n",
      "  libnvidia-common-440\n",
      "Use 'apt autoremove' to remove it.\n",
      "The following NEW packages will be installed:\n",
      "  tensorflow-model-server\n",
      "0 upgraded, 1 newly installed, 0 to remove and 48 not upgraded.\n",
      "Need to get 187 MB of archives.\n",
      "After this operation, 0 B of additional disk space will be used.\n",
      "Get:1 http://storage.googleapis.com/tensorflow-serving-apt stable/tensorflow-model-server amd64 tensorflow-model-server all 2.2.0 [187 MB]\n",
      "Fetched 187 MB in 3s (66.9 MB/s)\n",
      "Selecting previously unselected package tensorflow-model-server.\n",
      "(Reading database ... 144465 files and directories currently installed.)\n",
      "Preparing to unpack .../tensorflow-model-server_2.2.0_all.deb ...\n",
      "Unpacking tensorflow-model-server (2.2.0) ...\n",
      "Setting up tensorflow-model-server (2.2.0) ...\n"
     ]
    }
   ],
   "source": [
    "# Let's install tensorflow model server\n",
    "!apt-get install tensorflow-model-server"
   ]
  },
  {
   "cell_type": "markdown",
   "metadata": {
    "id": "g0U2XmtK9x1l"
   },
   "source": [
    "## Let's run TensorFlow serving"
   ]
  },
  {
   "cell_type": "markdown",
   "metadata": {
    "id": "YUljZE8I9-V_"
   },
   "source": [
    "- We will load our model and start making inferences (predictions) based on it.\n",
    "- There are some important parameters:\n",
    "\n",
    "  - rest_api_port: The port that you'll use for REST requests.\n",
    "  - model_name: You'll use this in the URL of REST requests. You can choose any name\n",
    "  - model_base_path: This is the path to the directory where you've saved your model.\n",
    "  \n",
    "- For more information regarding REST, check this out: \n",
    "https://www.codecademy.com/articles/what-is-rest\n",
    "- REST is a revival of HTTP in which http commands have semantic meaning. "
   ]
  },
  {
   "cell_type": "code",
   "execution_count": null,
   "metadata": {
    "colab": {
     "base_uri": "https://localhost:8080/",
     "height": 141
    },
    "id": "sDn7Dbrf9x0A",
    "outputId": "8a29abe1-3b9f-41e0-f684-044770c0d5ba"
   },
   "outputs": [
    {
     "name": "stdout",
     "output_type": "stream",
     "text": [
      "export_path = /model/1\n",
      "\n",
      "WARNING:tensorflow:From /usr/local/lib/python3.6/dist-packages/tensorflow/python/ops/resource_variable_ops.py:1817: calling BaseResourceVariable.__init__ (from tensorflow.python.ops.resource_variable_ops) with constraint is deprecated and will be removed in a future version.\n",
      "Instructions for updating:\n",
      "If using Keras pass *_constraint arguments to layers.\n",
      "INFO:tensorflow:Assets written to: /model/1/assets\n"
     ]
    }
   ],
   "source": [
    "deploy('/model', model_1_facialKeyPoints)"
   ]
  },
  {
   "cell_type": "code",
   "execution_count": null,
   "metadata": {
    "colab": {
     "base_uri": "https://localhost:8080/",
     "height": 35
    },
    "id": "Leau6glq9xyZ",
    "outputId": "efea666f-148b-4acd-b7b7-3c459bd1dd97"
   },
   "outputs": [
    {
     "name": "stdout",
     "output_type": "stream",
     "text": [
      "Starting job # 0 in a separate thread.\n"
     ]
    }
   ],
   "source": [
    "%%bash --bg \n",
    "nohup tensorflow_model_server \\\n",
    "  --rest_api_port=4500 \\\n",
    "  --model_name=keypoint_model \\\n",
    "  --model_base_path=\"${MODEL_DIR}\" >server.log 2>&1"
   ]
  },
  {
   "cell_type": "code",
   "execution_count": null,
   "metadata": {
    "colab": {
     "base_uri": "https://localhost:8080/",
     "height": 211
    },
    "id": "MJgj-FIC9xwI",
    "outputId": "c03f74ad-f0b2-49fe-ac7f-c71bbc776862"
   },
   "outputs": [
    {
     "name": "stdout",
     "output_type": "stream",
     "text": [
      "2020-07-15 02:07:48.885759: I external/org_tensorflow/tensorflow/core/platform/cpu_feature_guard.cc:143] Your CPU supports instructions that this TensorFlow binary was not compiled to use: AVX2 FMA\n",
      "2020-07-15 02:07:48.954784: I external/org_tensorflow/tensorflow/cc/saved_model/loader.cc:234] Restoring SavedModel bundle.\n",
      "2020-07-15 02:07:49.188484: I external/org_tensorflow/tensorflow/cc/saved_model/loader.cc:183] Running initialization op on SavedModel bundle at path: /model/1\n",
      "2020-07-15 02:07:49.308609: I external/org_tensorflow/tensorflow/cc/saved_model/loader.cc:364] SavedModel load for tags { serve }; Status: success: OK. Took 445893 microseconds.\n",
      "2020-07-15 02:07:49.320568: I tensorflow_serving/servables/tensorflow/saved_model_warmup.cc:105] No warmup data file found at /model/1/assets.extra/tf_serving_warmup_requests\n",
      "2020-07-15 02:07:49.320985: I tensorflow_serving/core/loader_harness.cc:87] Successfully loaded servable version {name: keypoint_model version: 1}\n",
      "2020-07-15 02:07:49.323382: I tensorflow_serving/model_servers/server.cc:355] Running gRPC ModelServer at 0.0.0.0:8500 ...\n",
      "[warn] getaddrinfo: address family for nodename not supported\n",
      "[evhttp_server.cc : 238] NET_LOG: Entering the event loop ...\n",
      "2020-07-15 02:07:49.324459: I tensorflow_serving/model_servers/server.cc:375] Exporting HTTP/REST API at:localhost:4500 ...\n"
     ]
    }
   ],
   "source": [
    "!tail server.log"
   ]
  },
  {
   "cell_type": "code",
   "execution_count": null,
   "metadata": {
    "colab": {
     "base_uri": "https://localhost:8080/",
     "height": 69
    },
    "id": "Si54Msq0-HBx",
    "outputId": "772ab658-f738-47ae-8fa6-a7b6d9d8092e"
   },
   "outputs": [
    {
     "name": "stdout",
     "output_type": "stream",
     "text": [
      "export_path = /model1/1\n",
      "\n",
      "INFO:tensorflow:Assets written to: /model1/1/assets\n"
     ]
    }
   ],
   "source": [
    "deploy('/model1', model_2_emotion)"
   ]
  },
  {
   "cell_type": "code",
   "execution_count": null,
   "metadata": {
    "colab": {
     "base_uri": "https://localhost:8080/",
     "height": 35
    },
    "id": "GEoiUdfG-HAB",
    "outputId": "141890a5-f8f3-46ed-986f-b5e30d6bf235"
   },
   "outputs": [
    {
     "name": "stdout",
     "output_type": "stream",
     "text": [
      "Starting job # 2 in a separate thread.\n"
     ]
    }
   ],
   "source": [
    "%%bash --bg \n",
    "nohup tensorflow_model_server \\\n",
    "  --rest_api_port=4000 \\\n",
    "  --model_name=emotion_model \\\n",
    "  --model_base_path=\"${MODEL_DIR}\" >server.log 2>&1"
   ]
  },
  {
   "cell_type": "code",
   "execution_count": null,
   "metadata": {
    "colab": {
     "base_uri": "https://localhost:8080/",
     "height": 211
    },
    "id": "Yu1wunTw-G-P",
    "outputId": "8b5ed2c5-d94e-476f-b175-e16a1533d943"
   },
   "outputs": [
    {
     "name": "stdout",
     "output_type": "stream",
     "text": [
      "2020-07-15 02:08:52.183551: I external/org_tensorflow/tensorflow/core/platform/cpu_feature_guard.cc:143] Your CPU supports instructions that this TensorFlow binary was not compiled to use: AVX2 FMA\n",
      "2020-07-15 02:08:52.275232: I external/org_tensorflow/tensorflow/cc/saved_model/loader.cc:234] Restoring SavedModel bundle.\n",
      "2020-07-15 02:08:52.450458: I external/org_tensorflow/tensorflow/cc/saved_model/loader.cc:183] Running initialization op on SavedModel bundle at path: /model1/1\n",
      "2020-07-15 02:08:52.541199: I external/org_tensorflow/tensorflow/cc/saved_model/loader.cc:364] SavedModel load for tags { serve }; Status: success: OK. Took 383900 microseconds.\n",
      "2020-07-15 02:08:52.552074: I tensorflow_serving/servables/tensorflow/saved_model_warmup.cc:105] No warmup data file found at /model1/1/assets.extra/tf_serving_warmup_requests\n",
      "2020-07-15 02:08:52.552469: I tensorflow_serving/core/loader_harness.cc:87] Successfully loaded servable version {name: emotion_model version: 1}\n",
      "2020-07-15 02:08:52.554877: I tensorflow_serving/model_servers/server.cc:355] Running gRPC ModelServer at 0.0.0.0:8500 ...\n",
      "[warn] getaddrinfo: address family for nodename not supported\n",
      "[evhttp_server.cc : 238] NET_LOG: Entering the event loop ...\n",
      "2020-07-15 02:08:52.555920: I tensorflow_serving/model_servers/server.cc:375] Exporting HTTP/REST API at:localhost:4000 ...\n"
     ]
    }
   ],
   "source": [
    "!tail server.log"
   ]
  },
  {
   "cell_type": "markdown",
   "metadata": {
    "id": "PASBs9J--SrG"
   },
   "source": [
    "- **Congratulations! now we have successfully loaded a servable version of our model {name: keypoint_model version: 1}** \n",
    "- **Congratulations! now we have successfully loaded a servable version of our model {name: emotion_model version: 1}** "
   ]
  },
  {
   "cell_type": "markdown",
   "metadata": {
    "id": "8I5OZyc4-WAl"
   },
   "source": [
    "# MAKE REQUESTS TO MODEL IN TENSORFLOW SERVING"
   ]
  },
  {
   "cell_type": "code",
   "execution_count": null,
   "metadata": {
    "colab": {
     "base_uri": "https://localhost:8080/",
     "height": 35
    },
    "id": "DuecWgjz-G8u",
    "outputId": "73aedfb9-446f-4608-b106-f05535d95236"
   },
   "outputs": [
    {
     "name": "stdout",
     "output_type": "stream",
     "text": [
      "Data: {\"signature_name\": \"serving_default\", \"instances\": ... 172231674194], [1.0], [1.0], [1.0], [1.0], [1.0]]]]}\n"
     ]
    }
   ],
   "source": [
    "import json\n",
    "\n",
    "# Let's create a JSON object and make 3 inference requests\n",
    "data = json.dumps({\"signature_name\": \"serving_default\", \"instances\": X_test[0:3].tolist()})\n",
    "print('Data: {} ... {}'.format(data[:50], data[len(data)-52:]))"
   ]
  },
  {
   "cell_type": "code",
   "execution_count": null,
   "metadata": {
    "id": "Ci5jE7Je-G6a"
   },
   "outputs": [],
   "source": [
    "!pip install -q requests"
   ]
  },
  {
   "cell_type": "code",
   "execution_count": null,
   "metadata": {
    "id": "4cJz8Nkd-is7"
   },
   "outputs": [],
   "source": [
    "import requests\n",
    "\n",
    "# Function to make predictions from deployed models\n",
    "def response(data):\n",
    "  headers = {\"content-type\": \"application/json\"}\n",
    "  json_response = requests.post('http://localhost:4500/v1/models/keypoint_model/versions/1:predict', data=data, headers=headers, verify = False)\n",
    "  df_predict = json.loads(json_response.text)['predictions']\n",
    "  json_response = requests.post('http://localhost:4000/v1/models/emotion_model/versions/1:predict', data=data, headers=headers, verify = False)\n",
    "  df_emotion = np.argmax(json.loads(json_response.text)['predictions'], axis = 1)\n",
    "  \n",
    "  # Reshaping array from (856,) to (856,1)\n",
    "  df_emotion = np.expand_dims(df_emotion, axis = 1)\n",
    "\n",
    "  # Converting the predictions into a dataframe\n",
    "  df_predict= pd.DataFrame(df_predict, columns = columns)\n",
    "\n",
    "  # Adding emotion into the predicted dataframe\n",
    "  df_predict['emotion'] = df_emotion\n",
    "\n",
    "  return df_predict"
   ]
  },
  {
   "cell_type": "code",
   "execution_count": null,
   "metadata": {
    "id": "YV0UAo58-irJ"
   },
   "outputs": [],
   "source": [
    "# making prediction\n",
    "df_predict = response(data)"
   ]
  },
  {
   "cell_type": "code",
   "execution_count": null,
   "metadata": {
    "colab": {
     "base_uri": "https://localhost:8080/",
     "height": 161
    },
    "id": "FrQIJpZg-ipg",
    "outputId": "c66df9e6-92f5-4bed-a36e-8938f8d5e20d"
   },
   "outputs": [
    {
     "data": {
      "text/html": [
       "<div>\n",
       "<style scoped>\n",
       "    .dataframe tbody tr th:only-of-type {\n",
       "        vertical-align: middle;\n",
       "    }\n",
       "\n",
       "    .dataframe tbody tr th {\n",
       "        vertical-align: top;\n",
       "    }\n",
       "\n",
       "    .dataframe thead th {\n",
       "        text-align: right;\n",
       "    }\n",
       "</style>\n",
       "<table border=\"1\" class=\"dataframe\">\n",
       "  <thead>\n",
       "    <tr style=\"text-align: right;\">\n",
       "      <th></th>\n",
       "      <th>left_eye_center_x</th>\n",
       "      <th>left_eye_center_y</th>\n",
       "      <th>right_eye_center_x</th>\n",
       "      <th>right_eye_center_y</th>\n",
       "      <th>left_eye_inner_corner_x</th>\n",
       "      <th>left_eye_inner_corner_y</th>\n",
       "      <th>left_eye_outer_corner_x</th>\n",
       "      <th>left_eye_outer_corner_y</th>\n",
       "      <th>right_eye_inner_corner_x</th>\n",
       "      <th>right_eye_inner_corner_y</th>\n",
       "      <th>right_eye_outer_corner_x</th>\n",
       "      <th>right_eye_outer_corner_y</th>\n",
       "      <th>left_eyebrow_inner_end_x</th>\n",
       "      <th>left_eyebrow_inner_end_y</th>\n",
       "      <th>left_eyebrow_outer_end_x</th>\n",
       "      <th>left_eyebrow_outer_end_y</th>\n",
       "      <th>right_eyebrow_inner_end_x</th>\n",
       "      <th>right_eyebrow_inner_end_y</th>\n",
       "      <th>right_eyebrow_outer_end_x</th>\n",
       "      <th>right_eyebrow_outer_end_y</th>\n",
       "      <th>nose_tip_x</th>\n",
       "      <th>nose_tip_y</th>\n",
       "      <th>mouth_left_corner_x</th>\n",
       "      <th>mouth_left_corner_y</th>\n",
       "      <th>mouth_right_corner_x</th>\n",
       "      <th>mouth_right_corner_y</th>\n",
       "      <th>mouth_center_top_lip_x</th>\n",
       "      <th>mouth_center_top_lip_y</th>\n",
       "      <th>mouth_center_bottom_lip_x</th>\n",
       "      <th>mouth_center_bottom_lip_y</th>\n",
       "      <th>emotion</th>\n",
       "    </tr>\n",
       "  </thead>\n",
       "  <tbody>\n",
       "    <tr>\n",
       "      <th>0</th>\n",
       "      <td>67.191750</td>\n",
       "      <td>40.315731</td>\n",
       "      <td>31.159002</td>\n",
       "      <td>31.321928</td>\n",
       "      <td>60.391983</td>\n",
       "      <td>39.892193</td>\n",
       "      <td>74.364342</td>\n",
       "      <td>42.570709</td>\n",
       "      <td>37.868263</td>\n",
       "      <td>34.352783</td>\n",
       "      <td>23.629301</td>\n",
       "      <td>29.943869</td>\n",
       "      <td>59.895458</td>\n",
       "      <td>33.299038</td>\n",
       "      <td>81.082809</td>\n",
       "      <td>36.535580</td>\n",
       "      <td>43.978065</td>\n",
       "      <td>29.244591</td>\n",
       "      <td>19.456795</td>\n",
       "      <td>22.203642</td>\n",
       "      <td>44.837772</td>\n",
       "      <td>62.827095</td>\n",
       "      <td>58.739151</td>\n",
       "      <td>75.648400</td>\n",
       "      <td>24.131174</td>\n",
       "      <td>67.681976</td>\n",
       "      <td>41.411930</td>\n",
       "      <td>73.808220</td>\n",
       "      <td>40.205318</td>\n",
       "      <td>81.007812</td>\n",
       "      <td>3</td>\n",
       "    </tr>\n",
       "    <tr>\n",
       "      <th>1</th>\n",
       "      <td>66.625709</td>\n",
       "      <td>36.723312</td>\n",
       "      <td>30.051167</td>\n",
       "      <td>38.728249</td>\n",
       "      <td>60.393360</td>\n",
       "      <td>37.676323</td>\n",
       "      <td>73.304400</td>\n",
       "      <td>37.299122</td>\n",
       "      <td>36.704311</td>\n",
       "      <td>38.842911</td>\n",
       "      <td>23.373636</td>\n",
       "      <td>40.162575</td>\n",
       "      <td>57.475433</td>\n",
       "      <td>28.200853</td>\n",
       "      <td>79.064484</td>\n",
       "      <td>29.026730</td>\n",
       "      <td>38.383114</td>\n",
       "      <td>29.590614</td>\n",
       "      <td>16.397839</td>\n",
       "      <td>33.378326</td>\n",
       "      <td>50.429455</td>\n",
       "      <td>52.355823</td>\n",
       "      <td>65.993294</td>\n",
       "      <td>75.481377</td>\n",
       "      <td>37.287731</td>\n",
       "      <td>77.778694</td>\n",
       "      <td>51.307591</td>\n",
       "      <td>68.278862</td>\n",
       "      <td>52.165241</td>\n",
       "      <td>86.067841</td>\n",
       "      <td>3</td>\n",
       "    </tr>\n",
       "    <tr>\n",
       "      <th>2</th>\n",
       "      <td>66.494300</td>\n",
       "      <td>35.461330</td>\n",
       "      <td>30.653955</td>\n",
       "      <td>37.287907</td>\n",
       "      <td>59.479546</td>\n",
       "      <td>36.712400</td>\n",
       "      <td>72.856781</td>\n",
       "      <td>35.768440</td>\n",
       "      <td>37.003429</td>\n",
       "      <td>37.702095</td>\n",
       "      <td>23.139545</td>\n",
       "      <td>38.525375</td>\n",
       "      <td>56.323830</td>\n",
       "      <td>30.579756</td>\n",
       "      <td>78.116653</td>\n",
       "      <td>29.656347</td>\n",
       "      <td>38.822803</td>\n",
       "      <td>31.503185</td>\n",
       "      <td>16.949095</td>\n",
       "      <td>34.199300</td>\n",
       "      <td>49.486858</td>\n",
       "      <td>58.430035</td>\n",
       "      <td>65.250351</td>\n",
       "      <td>72.418633</td>\n",
       "      <td>34.524292</td>\n",
       "      <td>74.269890</td>\n",
       "      <td>49.820766</td>\n",
       "      <td>72.843552</td>\n",
       "      <td>50.125488</td>\n",
       "      <td>78.823173</td>\n",
       "      <td>3</td>\n",
       "    </tr>\n",
       "  </tbody>\n",
       "</table>\n",
       "</div>"
      ],
      "text/plain": [
       "   left_eye_center_x  left_eye_center_y  ...  mouth_center_bottom_lip_y  emotion\n",
       "0          67.191750          40.315731  ...                  81.007812        3\n",
       "1          66.625709          36.723312  ...                  86.067841        3\n",
       "2          66.494300          35.461330  ...                  78.823173        3\n",
       "\n",
       "[3 rows x 31 columns]"
      ]
     },
     "execution_count": 104,
     "metadata": {
      "tags": []
     },
     "output_type": "execute_result"
    }
   ],
   "source": [
    "df_predict"
   ]
  },
  {
   "cell_type": "code",
   "execution_count": null,
   "metadata": {
    "colab": {
     "base_uri": "https://localhost:8080/",
     "height": 1000
    },
    "id": "tOTIG6gH-ugH",
    "outputId": "39beb2d7-b83f-4111-c055-ffc05f590cc6"
   },
   "outputs": [
    {
     "data": {
      "image/png": "[encoded data removed]",
      "text/plain": [
       "<Figure size 1728x1728 with 3 Axes>"
      ]
     },
     "metadata": {
      "needs_background": "light",
      "tags": []
     },
     "output_type": "display_data"
    }
   ],
   "source": [
    "# Plotting the test images and their predicted keypoints and emotions\n",
    "\n",
    "fig, axes = plt.subplots(3, 1, figsize = (24, 24))\n",
    "axes = axes.ravel()\n",
    "\n",
    "for i in range(3):\n",
    "\n",
    "    axes[i].imshow(X_test[i].squeeze(),cmap='gray')\n",
    "    axes[i].set_title('Prediction = {}'.format(label_to_text[df_predict['emotion'][i]]))\n",
    "    axes[i].axis('off')\n",
    "    for j in range(1,31,2):\n",
    "            axes[i].plot(df_predict.loc[i][j-1], df_predict.loc[i][j], 'rx')\n",
    "            "
   ]
  },
  {
   "cell_type": "markdown",
   "metadata": {
    "id": "7aaG4Hr_-xQ6"
   },
   "source": [
    "# EXCELLENT JOB! NOW YOU HAVE A SOLID KNOWLEDGE OF EMOTION AI! YOU SHOULD BE SUPER PROUD OF YOUR NEWLY ACQUIRED SKILLS :)"
   ]
  },
  {
   "cell_type": "code",
   "execution_count": null,
   "metadata": {},
   "outputs": [],
   "source": []
  },
  {
   "cell_type": "markdown",
   "metadata": {},
   "source": [
    "# ACTIVATION FUNCTIONS"
   ]
  },
  {
   "cell_type": "markdown",
   "metadata": {
    "id": "fTNBK-DPmVyv"
   },
   "source": [
    "![alt text](https://drive.google.com/uc?id=1G8aJvO6IFxxd7dAdVB1tylWGNcSUM3R4)"
   ]
  },
  {
   "cell_type": "markdown",
   "metadata": {
    "id": "V0Rr8kHSmcot"
   },
   "source": [
    "![alt text](https://drive.google.com/uc?id=1d4HfwWTawWwpiXYfrADRUGLc0yfJNzoz)"
   ]
  },
  {
   "cell_type": "markdown",
   "metadata": {
    "id": "aYglKx2BmjHz"
   },
   "source": [
    "![alt text](https://drive.google.com/uc?id=142wHzaUyjv8185BZS-BisyjQALDOZhSX)"
   ]
  },
  {
   "cell_type": "markdown",
   "metadata": {
    "id": "ucFdvm4xtQeq"
   },
   "source": [
    "Great Resource by Aravind Pai: https://www.analyticsvidhya.com/blog/2020/02/cnn-vs-rnn-vs-mlp-analyzing-3-types-of-neural-networks-in-deep-learning/"
   ]
  },
  {
   "cell_type": "markdown",
   "metadata": {
    "id": "cxQoOpStnsbT"
   },
   "source": [
    "Great Resource by Jason Brownlee: https://machinelearningmastery.com/understand-the-dynamics-of-learning-rate-on-deep-learning-neural-networks/"
   ]
  },
  {
   "cell_type": "markdown",
   "metadata": {
    "id": "yNqf_KcNuA3o"
   },
   "source": [
    "https://towardsdatascience.com/understanding-and-coding-a-resnet-in-keras-446d7ff84d33"
   ]
  },
  {
   "cell_type": "markdown",
   "metadata": {
    "id": "DwpHGScO7Vm5"
   },
   "source": [
    "# Well Done!"
   ]
  },
  {
   "cell_type": "code",
   "execution_count": null,
   "metadata": {},
   "outputs": [],
   "source": []
  }
 ],
 "metadata": {
  "colab": {
   "collapsed_sections": [],
   "name": "Emotion AI.ipynb",
   "provenance": []
  },
  "kernelspec": {
   "display_name": "Python 3",
   "language": "python",
   "name": "python3"
  },
  "language_info": {
   "codemirror_mode": {
    "name": "ipython",
    "version": 3
   },
   "file_extension": ".py",
   "mimetype": "text/x-python",
   "name": "python",
   "nbconvert_exporter": "python",
   "pygments_lexer": "ipython3",
   "version": "3.8.5"
  }
 },
 "nbformat": 4,
 "nbformat_minor": 1
}
